{
 "cells": [
  {
   "cell_type": "code",
   "execution_count": 3,
   "id": "0fd75761-783f-42f8-b6c3-973f987fd6ce",
   "metadata": {},
   "outputs": [],
   "source": [
    "import io\n",
    "import tokenize"
   ]
  },
  {
   "cell_type": "code",
   "execution_count": 26,
   "id": "f77b1441-238d-46da-a918-ec087752ff31",
   "metadata": {},
   "outputs": [
    {
     "name": "stdout",
     "output_type": "stream",
     "text": [
      "TokenInfo(type=1 (NAME), string='OPENQASM', start=(1, 0), end=(1, 8), line='OPENQASM 2.0;\\n')\n",
      "TokenInfo(type=2 (NUMBER), string='2.0', start=(1, 9), end=(1, 12), line='OPENQASM 2.0;\\n')\n",
      "TokenInfo(type=55 (OP), string=';', start=(1, 12), end=(1, 13), line='OPENQASM 2.0;\\n')\n",
      "TokenInfo(type=4 (NEWLINE), string='\\n', start=(1, 13), end=(1, 14), line='OPENQASM 2.0;\\n')\n",
      "test\n",
      "0.1116694386974314+0.5306344554553869j,-0.555171870025106-0.6306672703394339j\n"
     ]
    }
   ],
   "source": [
    "Unitary = \"U\"\n",
    "\n",
    "gates = {}\n",
    "def removeLine(n):\n",
    "    \"todo\"\n",
    "def replaceLine(n):\n",
    "    \"todo\"\n",
    "def parseGate(token, tokens):\n",
    "    id = next(tokens).string\n",
    "    if id == 'unitary':\n",
    "        gate = next(tokens).string \n",
    "        next(tokens) #{\n",
    "        next(tokens) #u\n",
    "        s = next(tokens).string\n",
    "        output = \"U\"\n",
    "        while (s != ')'):\n",
    "            output += s\n",
    "            s = next(tokens).string\n",
    "        output += s\n",
    "        gates[gate] = output\n",
    "    if id == 'initialize':\n",
    "        next(tokens) #(\n",
    "        next(tokens) #param0\n",
    "        next(tokens) #,\n",
    "        next(tokens) #param1\n",
    "        next(tokens) #)\n",
    "        gate = next(tokens).string\n",
    "        next(tokens) #{\n",
    "        next(tokens) #reset\n",
    "        next(tokens) #gate\n",
    "        next(tokens) #;\n",
    "        next(tokens) #state prep\n",
    "        next(tokens) #(\n",
    "        s = next(tokens).string\n",
    "        output = \"\"\n",
    "        while (s != ')'):\n",
    "            output += s\n",
    "            s = next(tokens).string\n",
    "        gates[output] = gates[gate]\n",
    "    removeLine(token.start[0])   \n",
    "def parseVersion(token, tokens):\n",
    "    print(token)\n",
    "def parseInitialize(token, tokens):\n",
    "    next(tokens) #(\n",
    "    s = next(tokens).string\n",
    "    output = \"\"\n",
    "    while (s != ')'):\n",
    "        output += s\n",
    "        s = next(tokens).string\n",
    "    \n",
    "\n",
    "with tokenize.open(\"../test_input\") as f:\n",
    "    tokens = tokenize.generate_tokens(f.readline)\n",
    "    for token in tokens:\n",
    "            if token.string == 'gate':\n",
    "                parseGate(token, tokens)\n",
    "            if token.start[0] == 1:\n",
    "                parseVersion(token, tokens)\n",
    "            if token.string == 'initialize':\n",
    "                parseInitialize(token, tokens)"
   ]
  }
 ],
 "metadata": {
  "kernelspec": {
   "display_name": "Python 3 (ipykernel)",
   "language": "python",
   "name": "python3"
  },
  "language_info": {
   "codemirror_mode": {
    "name": "ipython",
    "version": 3
   },
   "file_extension": ".py",
   "mimetype": "text/x-python",
   "name": "python",
   "nbconvert_exporter": "python",
   "pygments_lexer": "ipython3",
   "version": "3.12.5"
  }
 },
 "nbformat": 4,
 "nbformat_minor": 5
}
